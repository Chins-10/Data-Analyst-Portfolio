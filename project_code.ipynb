{
  "nbformat": 4,
  "nbformat_minor": 0,
  "metadata": {
    "colab": {
      "provenance": [],
      "include_colab_link": true
    },
    "kernelspec": {
      "name": "python3",
      "display_name": "Python 3"
    },
    "language_info": {
      "name": "python"
    }
  },
  "cells": [
    {
      "cell_type": "markdown",
      "metadata": {
        "id": "view-in-github",
        "colab_type": "text"
      },
      "source": [
        "<a href=\"https://colab.research.google.com/github/Chins-10/Data-Analyst-Portfolio/blob/main/project_code.ipynb\" target=\"_parent\"><img src=\"https://colab.research.google.com/assets/colab-badge.svg\" alt=\"Open In Colab\"/></a>"
      ]
    },
    {
      "cell_type": "code",
      "execution_count": null,
      "metadata": {
        "id": "cD4pWPLWrS5Q"
      },
      "outputs": [],
      "source": [
        "import pandas as pd\n",
        "import matplotlib.pyplot as plt\n",
        "import numpy as np\n",
        "data = pd.read_csv(\"/content/data1.csv\")"
      ]
    },
    {
      "cell_type": "code",
      "source": [
        "data.dtypes"
      ],
      "metadata": {
        "colab": {
          "base_uri": "https://localhost:8080/"
        },
        "id": "i5dtLPrpL1yl",
        "outputId": "69cd7b80-89bb-407b-e333-d8198b0d7983"
      },
      "execution_count": null,
      "outputs": [
        {
          "output_type": "execute_result",
          "data": {
            "text/plain": [
              "Date           object\n",
              "Close/Last    float64\n",
              "Volume         object\n",
              "Open          float64\n",
              "High          float64\n",
              "Low           float64\n",
              "dtype: object"
            ]
          },
          "metadata": {},
          "execution_count": 35
        }
      ]
    },
    {
      "cell_type": "code",
      "source": [
        "#Process the data\n",
        "data['result'] = data['Open']-data['Close/Last']"
      ],
      "metadata": {
        "id": "QNHimm9RtQNZ"
      },
      "execution_count": null,
      "outputs": []
    },
    {
      "cell_type": "code",
      "source": [
        "data['final']=data['result']<200"
      ],
      "metadata": {
        "id": "7dM7IY1DMN3E"
      },
      "execution_count": null,
      "outputs": []
    },
    {
      "cell_type": "code",
      "source": [
        "features=['Close/Last','Open']\n",
        "X=data[features]\n",
        "Y=data['final']"
      ],
      "metadata": {
        "id": "1WEbrlOfa3Y8"
      },
      "execution_count": null,
      "outputs": []
    },
    {
      "cell_type": "code",
      "source": [
        "#DECISION TREE display\n",
        "from sklearn.tree import DecisionTreeClassifier\n",
        "from sklearn import tree\n",
        "dtree = DecisionTreeClassifier()\n",
        "dtree = dtree.fit(X, Y)\n",
        "tree.plot_tree(dtree, feature_names=features)"
      ],
      "metadata": {
        "colab": {
          "base_uri": "https://localhost:8080/",
          "height": 1000
        },
        "id": "2zDRqDKcdHx0",
        "outputId": "c78ed786-6d3d-4a84-88e0-c30d4dc24637"
      },
      "execution_count": null,
      "outputs": [
        {
          "output_type": "execute_result",
          "data": {
            "text/plain": [
              "[Text(0.3728813559322034, 0.9545454545454546, 'Open <= 11533.445\\ngini = 0.229\\nsamples = 250\\nvalue = [33, 217]'),\n",
              " Text(0.2033898305084746, 0.8636363636363636, 'Close/Last <= 11019.7\\ngini = 0.116\\nsamples = 129\\nvalue = [8, 121]'),\n",
              " Text(0.13559322033898305, 0.7727272727272727, 'Open <= 11107.38\\ngini = 0.215\\nsamples = 57\\nvalue = [7, 50]'),\n",
              " Text(0.1016949152542373, 0.6818181818181818, 'Open <= 10725.125\\ngini = 0.137\\nsamples = 54\\nvalue = [4, 50]'),\n",
              " Text(0.06779661016949153, 0.5909090909090909, 'gini = 0.0\\nsamples = 31\\nvalue = [0, 31]'),\n",
              " Text(0.13559322033898305, 0.5909090909090909, 'Close/Last <= 10678.905\\ngini = 0.287\\nsamples = 23\\nvalue = [4, 19]'),\n",
              " Text(0.06779661016949153, 0.5, 'Close/Last <= 10585.45\\ngini = 0.375\\nsamples = 4\\nvalue = [3, 1]'),\n",
              " Text(0.03389830508474576, 0.4090909090909091, 'gini = 0.0\\nsamples = 2\\nvalue = [2, 0]'),\n",
              " Text(0.1016949152542373, 0.4090909090909091, 'Open <= 10841.65\\ngini = 0.5\\nsamples = 2\\nvalue = [1, 1]'),\n",
              " Text(0.06779661016949153, 0.3181818181818182, 'gini = 0.0\\nsamples = 1\\nvalue = [0, 1]'),\n",
              " Text(0.13559322033898305, 0.3181818181818182, 'gini = 0.0\\nsamples = 1\\nvalue = [1, 0]'),\n",
              " Text(0.2033898305084746, 0.5, 'Open <= 10999.735\\ngini = 0.1\\nsamples = 19\\nvalue = [1, 18]'),\n",
              " Text(0.1694915254237288, 0.4090909090909091, 'gini = 0.0\\nsamples = 15\\nvalue = [0, 15]'),\n",
              " Text(0.23728813559322035, 0.4090909090909091, 'Close/Last <= 10897.155\\ngini = 0.375\\nsamples = 4\\nvalue = [1, 3]'),\n",
              " Text(0.2033898305084746, 0.3181818181818182, 'gini = 0.0\\nsamples = 1\\nvalue = [1, 0]'),\n",
              " Text(0.2711864406779661, 0.3181818181818182, 'gini = 0.0\\nsamples = 3\\nvalue = [0, 3]'),\n",
              " Text(0.1694915254237288, 0.6818181818181818, 'gini = 0.0\\nsamples = 3\\nvalue = [3, 0]'),\n",
              " Text(0.2711864406779661, 0.7727272727272727, 'Open <= 11462.305\\ngini = 0.027\\nsamples = 72\\nvalue = [1, 71]'),\n",
              " Text(0.23728813559322035, 0.6818181818181818, 'gini = 0.0\\nsamples = 61\\nvalue = [0, 61]'),\n",
              " Text(0.3050847457627119, 0.6818181818181818, 'Open <= 11468.34\\ngini = 0.165\\nsamples = 11\\nvalue = [1, 10]'),\n",
              " Text(0.2711864406779661, 0.5909090909090909, 'gini = 0.0\\nsamples = 1\\nvalue = [1, 0]'),\n",
              " Text(0.3389830508474576, 0.5909090909090909, 'gini = 0.0\\nsamples = 10\\nvalue = [0, 10]'),\n",
              " Text(0.5423728813559322, 0.8636363636363636, 'Close/Last <= 11455.225\\ngini = 0.328\\nsamples = 121\\nvalue = [25, 96]'),\n",
              " Text(0.4745762711864407, 0.7727272727272727, 'Open <= 11542.755\\ngini = 0.219\\nsamples = 8\\nvalue = [7, 1]'),\n",
              " Text(0.4406779661016949, 0.6818181818181818, 'Open <= 11542.455\\ngini = 0.5\\nsamples = 2\\nvalue = [1, 1]'),\n",
              " Text(0.4067796610169492, 0.5909090909090909, 'gini = 0.0\\nsamples = 1\\nvalue = [1, 0]'),\n",
              " Text(0.4745762711864407, 0.5909090909090909, 'gini = 0.0\\nsamples = 1\\nvalue = [0, 1]'),\n",
              " Text(0.5084745762711864, 0.6818181818181818, 'gini = 0.0\\nsamples = 6\\nvalue = [6, 0]'),\n",
              " Text(0.6101694915254238, 0.7727272727272727, 'Open <= 11897.725\\ngini = 0.268\\nsamples = 113\\nvalue = [18, 95]'),\n",
              " Text(0.576271186440678, 0.6818181818181818, 'gini = 0.0\\nsamples = 27\\nvalue = [0, 27]'),\n",
              " Text(0.6440677966101694, 0.6818181818181818, 'Close/Last <= 11802.89\\ngini = 0.331\\nsamples = 86\\nvalue = [18, 68]'),\n",
              " Text(0.559322033898305, 0.5909090909090909, 'Open <= 11904.575\\ngini = 0.278\\nsamples = 6\\nvalue = [5, 1]'),\n",
              " Text(0.5254237288135594, 0.5, 'Close/Last <= 11684.265\\ngini = 0.5\\nsamples = 2\\nvalue = [1, 1]'),\n",
              " Text(0.4915254237288136, 0.4090909090909091, 'gini = 0.0\\nsamples = 1\\nvalue = [1, 0]'),\n",
              " Text(0.559322033898305, 0.4090909090909091, 'gini = 0.0\\nsamples = 1\\nvalue = [0, 1]'),\n",
              " Text(0.5932203389830508, 0.5, 'gini = 0.0\\nsamples = 4\\nvalue = [4, 0]'),\n",
              " Text(0.7288135593220338, 0.5909090909090909, 'Open <= 12602.655\\ngini = 0.272\\nsamples = 80\\nvalue = [13, 67]'),\n",
              " Text(0.6610169491525424, 0.5, 'Close/Last <= 11885.295\\ngini = 0.056\\nsamples = 35\\nvalue = [1, 34]'),\n",
              " Text(0.6271186440677966, 0.4090909090909091, 'Close/Last <= 11858.625\\ngini = 0.444\\nsamples = 3\\nvalue = [1, 2]'),\n",
              " Text(0.5932203389830508, 0.3181818181818182, 'gini = 0.0\\nsamples = 2\\nvalue = [0, 2]'),\n",
              " Text(0.6610169491525424, 0.3181818181818182, 'gini = 0.0\\nsamples = 1\\nvalue = [1, 0]'),\n",
              " Text(0.6949152542372882, 0.4090909090909091, 'gini = 0.0\\nsamples = 32\\nvalue = [0, 32]'),\n",
              " Text(0.7966101694915254, 0.5, 'Close/Last <= 12612.84\\ngini = 0.391\\nsamples = 45\\nvalue = [12, 33]'),\n",
              " Text(0.7627118644067796, 0.4090909090909091, 'gini = 0.0\\nsamples = 5\\nvalue = [5, 0]'),\n",
              " Text(0.8305084745762712, 0.4090909090909091, 'Close/Last <= 13533.925\\ngini = 0.289\\nsamples = 40\\nvalue = [7, 33]'),\n",
              " Text(0.7627118644067796, 0.3181818181818182, 'Open <= 13565.99\\ngini = 0.408\\nsamples = 21\\nvalue = [6, 15]'),\n",
              " Text(0.7288135593220338, 0.22727272727272727, 'Close/Last <= 12847.045\\ngini = 0.208\\nsamples = 17\\nvalue = [2, 15]'),\n",
              " Text(0.6949152542372882, 0.13636363636363635, 'Open <= 12910.11\\ngini = 0.48\\nsamples = 5\\nvalue = [2, 3]'),\n",
              " Text(0.6610169491525424, 0.045454545454545456, 'gini = 0.0\\nsamples = 3\\nvalue = [0, 3]'),\n",
              " Text(0.7288135593220338, 0.045454545454545456, 'gini = 0.0\\nsamples = 2\\nvalue = [2, 0]'),\n",
              " Text(0.7627118644067796, 0.13636363636363635, 'gini = 0.0\\nsamples = 12\\nvalue = [0, 12]'),\n",
              " Text(0.7966101694915254, 0.22727272727272727, 'gini = 0.0\\nsamples = 4\\nvalue = [4, 0]'),\n",
              " Text(0.8983050847457628, 0.3181818181818182, 'Open <= 14374.565\\ngini = 0.1\\nsamples = 19\\nvalue = [1, 18]'),\n",
              " Text(0.864406779661017, 0.22727272727272727, 'gini = 0.0\\nsamples = 16\\nvalue = [0, 16]'),\n",
              " Text(0.9322033898305084, 0.22727272727272727, 'Open <= 14472.585\\ngini = 0.444\\nsamples = 3\\nvalue = [1, 2]'),\n",
              " Text(0.8983050847457628, 0.13636363636363635, 'gini = 0.0\\nsamples = 1\\nvalue = [1, 0]'),\n",
              " Text(0.9661016949152542, 0.13636363636363635, 'gini = 0.0\\nsamples = 2\\nvalue = [0, 2]')]"
            ]
          },
          "metadata": {},
          "execution_count": 41
        },
        {
          "output_type": "display_data",
          "data": {
            "text/plain": [
              "<Figure size 432x288 with 1 Axes>"
            ],
            "image/png": "[encoded data removed]"
          },
          "metadata": {
            "needs_background": "light"
          }
        }
      ]
    },
    {
      "cell_type": "code",
      "source": [
        "X_train, X_test, Y_train, Y_test = train_test_split(X, Y, test_size=0.2, random_state=42)"
      ],
      "metadata": {
        "id": "tDhTYvNRhL-k"
      },
      "execution_count": null,
      "outputs": []
    },
    {
      "cell_type": "code",
      "source": [
        "#Accuracy,Precision and AUC-ROC\n",
        "from sklearn.datasets import make_classification\n",
        "from sklearn.model_selection import train_test_split\n",
        "from sklearn.tree import DecisionTreeClassifier\n",
        "from sklearn.metrics import precision_score, accuracy_score, roc_curve, roc_auc_score\n",
        "import matplotlib.pyplot as plt\n",
        "\n",
        "\n",
        "\n",
        "# Initialize a decision tree classifier with entropy criterion\n",
        "clf = DecisionTreeClassifier(criterion='entropy')\n",
        "\n",
        "# Fit the classifier to the training data\n",
        "clf.fit(X_train, Y_train)\n",
        "\n",
        "# Predict the target variable for the test data\n",
        "y_pred = clf.predict(X_test)\n",
        "\n",
        "# Calculate the precision and accuracy of the model on the test data\n",
        "precision = precision_score(Y_test, y_pred)\n",
        "accuracy = accuracy_score(Y_test, y_pred)\n",
        "\n",
        "# Calculate the predicted probabilities for the test data\n",
        "proba = clf.predict_proba(X_test)\n",
        "\n",
        "# Calculate the AUC-ROC score\n",
        "auc_roc = roc_auc_score(Y_test, proba[:, 1])\n",
        "print(\"Precision:\", precision)\n",
        "print(\"Accuracy:\", accuracy)\n",
        "print(\"AUC-ROC score:\", auc_roc)\n",
        "\n",
        "# Calculate the false positive rate (fpr) and true positive rate (tpr) for different threshold values\n",
        "fpr, tpr, thresholds = roc_curve(Y_test, proba[:, 1])\n",
        "\n",
        "# Plot the ROC curve\n",
        "plt.plot(fpr, tpr)\n",
        "plt.xlabel(\"False Positive Rate\")\n",
        "plt.ylabel(\"True Positive Rate\")\n",
        "plt.title(\"ROC Curve\")\n",
        "plt.show()"
      ],
      "metadata": {
        "colab": {
          "base_uri": "https://localhost:8080/",
          "height": 347
        },
        "id": "LBp_jC4BfZrS",
        "outputId": "9ebee0a7-4fc4-418e-b65d-bb9023576337"
      },
      "execution_count": null,
      "outputs": [
        {
          "output_type": "stream",
          "name": "stdout",
          "text": [
            "Precision: 0.9767441860465116\n",
            "Accuracy: 0.92\n",
            "AUC-ROC score: 0.8666666666666668\n"
          ]
        },
        {
          "output_type": "display_data",
          "data": {
            "text/plain": [
              "<Figure size 432x288 with 1 Axes>"
            ],
            "image/png": "[encoded data removed]"
          },
          "metadata": {
            "needs_background": "light"
          }
        }
      ]
    },
    {
      "cell_type": "code",
      "source": [
        "#if-else rules\n",
        "from sklearn.datasets import load_iris\n",
        "from sklearn.tree import DecisionTreeClassifier, export_text, export_graphviz\n",
        "import graphviz\n",
        "\n",
        "# Load the iris dataset\n",
        "iris = load_iris()\n",
        "\n",
        "# Initialize a decision tree classifier with entropy criterion\n",
        "clf = DecisionTreeClassifier(criterion='entropy')\n",
        "\n",
        "# Fit the classifier to the iris dataset\n",
        "clf.fit(iris.data, iris.target)\n",
        "\n",
        "# Display the decision tree\n",
        "dot_data = export_graphviz(clf, out_file=None, feature_names=iris.feature_names, class_names=iris.target_names, filled=True, rounded=True, special_characters=True)\n",
        "graph = graphviz.Source(dot_data)\n",
        "graph.render(\"iris_tree\")\n",
        "\n",
        "# Export IF-THEN rules\n",
        "rules = export_text(clf, feature_names=list(iris.feature_names))\n",
        "print(rules)"
      ],
      "metadata": {
        "colab": {
          "base_uri": "https://localhost:8080/"
        },
        "id": "lVAxusNR52jB",
        "outputId": "d9321369-6c22-4a2d-829d-37ba2a111247"
      },
      "execution_count": null,
      "outputs": [
        {
          "output_type": "stream",
          "name": "stdout",
          "text": [
            "|--- petal length (cm) <= 2.45\n",
            "|   |--- class: 0\n",
            "|--- petal length (cm) >  2.45\n",
            "|   |--- petal width (cm) <= 1.75\n",
            "|   |   |--- petal length (cm) <= 4.95\n",
            "|   |   |   |--- petal width (cm) <= 1.65\n",
            "|   |   |   |   |--- class: 1\n",
            "|   |   |   |--- petal width (cm) >  1.65\n",
            "|   |   |   |   |--- class: 2\n",
            "|   |   |--- petal length (cm) >  4.95\n",
            "|   |   |   |--- petal width (cm) <= 1.55\n",
            "|   |   |   |   |--- class: 2\n",
            "|   |   |   |--- petal width (cm) >  1.55\n",
            "|   |   |   |   |--- sepal length (cm) <= 6.95\n",
            "|   |   |   |   |   |--- class: 1\n",
            "|   |   |   |   |--- sepal length (cm) >  6.95\n",
            "|   |   |   |   |   |--- class: 2\n",
            "|   |--- petal width (cm) >  1.75\n",
            "|   |   |--- petal length (cm) <= 4.85\n",
            "|   |   |   |--- sepal length (cm) <= 5.95\n",
            "|   |   |   |   |--- class: 1\n",
            "|   |   |   |--- sepal length (cm) >  5.95\n",
            "|   |   |   |   |--- class: 2\n",
            "|   |   |--- petal length (cm) >  4.85\n",
            "|   |   |   |--- class: 2\n",
            "\n"
          ]
        }
      ]
    },
    {
      "cell_type": "code",
      "source": [
        "#Optimize Decision Tree\n",
        "from sklearn import decomposition, datasets\n",
        "from sklearn import tree\n",
        "from sklearn.pipeline import Pipeline\n",
        "from sklearn.model_selection import GridSearchCV, cross_val_score\n",
        "from sklearn.preprocessing import StandardScaler"
      ],
      "metadata": {
        "id": "d4A9TX8lFhWp"
      },
      "execution_count": null,
      "outputs": []
    },
    {
      "cell_type": "code",
      "source": [
        "from sklearn.datasets import load_iris\n",
        "from sklearn.tree import DecisionTreeClassifier\n",
        "from sklearn.model_selection import GridSearchCV\n",
        "\n",
        "# Load the iris dataset\n",
        "iris = load_iris()\n",
        "\n",
        "# Initialize a decision tree classifier with entropy criterion\n",
        "clf = DecisionTreeClassifier(criterion='entropy')\n",
        "\n",
        "# Define a dictionary of hyperparameters to tune\n",
        "params = {'max_depth': [1, 2, 3, 4, 5],\n",
        "          'min_samples_split': [2, 3, 4, 5],\n",
        "          'min_samples_leaf': [1, 2, 3, 4, 5]}\n",
        "\n",
        "# Perform a grid search over the hyperparameters using cross-validation\n",
        "grid_search = GridSearchCV(clf, param_grid=params, cv=5)\n",
        "grid_search.fit(iris.data, iris.target)\n",
        "\n",
        "# Print the best hyperparameters and the corresponding cross-validation score\n",
        "print(\"Best Hyperparameters: \", grid_search.best_params_)\n",
        "print(\"Best Score: \", grid_search.best_score_)"
      ],
      "metadata": {
        "colab": {
          "base_uri": "https://localhost:8080/"
        },
        "id": "a9BAiYZ7HFez",
        "outputId": "a33b0a0c-4cb9-4a43-af05-2a53a22d2925"
      },
      "execution_count": null,
      "outputs": [
        {
          "output_type": "stream",
          "name": "stdout",
          "text": [
            "Best Hyperparameters:  {'max_depth': 3, 'min_samples_leaf': 1, 'min_samples_split': 2}\n",
            "Best Score:  0.96\n"
          ]
        }
      ]
    },
    {
      "cell_type": "code",
      "source": [
        "from sklearn.datasets import make_classification\n",
        "from sklearn.model_selection import train_test_split\n",
        "from sklearn.tree import DecisionTreeClassifier\n",
        "from sklearn.metrics import precision_score, accuracy_score, roc_curve, roc_auc_score\n",
        "import matplotlib.pyplot as plt\n",
        "\n",
        "\n",
        "\n",
        "# Initialize a decision tree classifier with entropy criterion\n",
        "clf = DecisionTreeClassifier(criterion='entropy')\n",
        "\n",
        "# Fit the classifier to the training data\n",
        "clf.fit(X_train, Y_train)\n",
        "\n",
        "# Predict the target variable for the test data\n",
        "y_pred = clf.predict(X_test)\n",
        "\n",
        "# Calculate the precision and accuracy of the model on the test data\n",
        "precision = precision_score(Y_test, y_pred)\n",
        "accuracy = accuracy_score(Y_test, y_pred)\n",
        "\n",
        "# Calculate the predicted probabilities for the test data\n",
        "proba = clf.predict_proba(X_test)\n",
        "\n",
        "# Calculate the AUC-ROC score\n",
        "auc_roc = roc_auc_score(Y_test, proba[:, 1])\n",
        "print(\"Precision:\", precision)\n",
        "print(\"Accuracy:\", accuracy)\n",
        "print(\"AUC-ROC score:\", auc_roc)\n",
        "\n",
        "# Calculate the false positive rate (fpr) and true positive rate (tpr) for different threshold values\n",
        "fpr, tpr, thresholds = roc_curve(Y_test, proba[:, 1])\n",
        "\n",
        "# Plot the ROC curve\n",
        "plt.plot(fpr, tpr)\n",
        "plt.xlabel(\"False Positive Rate\")\n",
        "plt.ylabel(\"True Positive Rate\")\n",
        "plt.title(\"ROC Curve\")\n",
        "plt.show()"
      ],
      "metadata": {
        "colab": {
          "base_uri": "https://localhost:8080/",
          "height": 347
        },
        "id": "x7qrN4nBIGCL",
        "outputId": "6a3c1b60-7a53-45fa-d629-0f4514b67fc4"
      },
      "execution_count": null,
      "outputs": [
        {
          "output_type": "stream",
          "name": "stdout",
          "text": [
            "Precision: 0.9772727272727273\n",
            "Accuracy: 0.94\n",
            "AUC-ROC score: 0.877777777777778\n"
          ]
        },
        {
          "output_type": "display_data",
          "data": {
            "text/plain": [
              "<Figure size 432x288 with 1 Axes>"
            ],
            "image/png": "[encoded data removed]"
          },
          "metadata": {
            "needs_background": "light"
          }
        }
      ]
    },
    {
      "cell_type": "code",
      "source": [],
      "metadata": {
        "id": "7q5Ee9HXi3oK"
      },
      "execution_count": null,
      "outputs": []
    }
  ]
}